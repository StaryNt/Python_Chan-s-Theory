{
 "cells": [
  {
   "cell_type": "markdown",
   "id": "d5821c66-c76b-4f37-96a8-9ceaf944da2b",
   "metadata": {},
   "source": [
    "Step1：导入工具 读取数据 "
   ]
  },
  {
   "cell_type": "code",
   "execution_count": 2,
   "id": "fd8c01e1-d6e6-46a1-a399-eabedc0f2ecc",
   "metadata": {},
   "outputs": [],
   "source": [
    "import pandas as pd"
   ]
  },
  {
   "cell_type": "code",
   "execution_count": 3,
   "id": "fbe3e565-4760-40d8-8296-34e0f3678e5a",
   "metadata": {},
   "outputs": [],
   "source": [
    "cs_data=pd.read_excel(\"cs_rust.xlsx\")"
   ]
  },
  {
   "cell_type": "code",
   "execution_count": 4,
   "id": "3e428953-c081-4b8e-983c-8c0c3329cbb7",
   "metadata": {},
   "outputs": [
    {
     "name": "stdout",
     "output_type": "stream",
     "text": [
      "<class 'pandas.core.frame.DataFrame'>\n",
      "RangeIndex: 139 entries, 0 to 138\n",
      "Data columns (total 6 columns):\n",
      " #   Column  Non-Null Count  Dtype  \n",
      "---  ------  --------------  -----  \n",
      " 0   时间      139 non-null    object \n",
      " 1   开盘价     139 non-null    float64\n",
      " 2   收盘价     139 non-null    float64\n",
      " 3   最高价     139 non-null    float64\n",
      " 4   最低价     139 non-null    float64\n",
      " 5   估算成交量   139 non-null    int64  \n",
      "dtypes: float64(4), int64(1), object(1)\n",
      "memory usage: 6.6+ KB\n"
     ]
    }
   ],
   "source": [
    "cs_data.info()"
   ]
  },
  {
   "cell_type": "code",
   "execution_count": 5,
   "id": "82083e97-2262-43f9-807f-ccf17487a771",
   "metadata": {},
   "outputs": [
    {
     "data": {
      "text/html": [
       "<div>\n",
       "<style scoped>\n",
       "    .dataframe tbody tr th:only-of-type {\n",
       "        vertical-align: middle;\n",
       "    }\n",
       "\n",
       "    .dataframe tbody tr th {\n",
       "        vertical-align: top;\n",
       "    }\n",
       "\n",
       "    .dataframe thead th {\n",
       "        text-align: right;\n",
       "    }\n",
       "</style>\n",
       "<table border=\"1\" class=\"dataframe\">\n",
       "  <thead>\n",
       "    <tr style=\"text-align: right;\">\n",
       "      <th></th>\n",
       "      <th>时间</th>\n",
       "      <th>开盘价</th>\n",
       "      <th>收盘价</th>\n",
       "      <th>最高价</th>\n",
       "      <th>最低价</th>\n",
       "      <th>估算成交量</th>\n",
       "    </tr>\n",
       "  </thead>\n",
       "  <tbody>\n",
       "    <tr>\n",
       "      <th>0</th>\n",
       "      <td>2022-06-30 00:11:18</td>\n",
       "      <td>340.00</td>\n",
       "      <td>327.0</td>\n",
       "      <td>343.44</td>\n",
       "      <td>325.00</td>\n",
       "      <td>16</td>\n",
       "    </tr>\n",
       "    <tr>\n",
       "      <th>1</th>\n",
       "      <td>2022-07-04 01:43:11</td>\n",
       "      <td>326.00</td>\n",
       "      <td>323.5</td>\n",
       "      <td>337.50</td>\n",
       "      <td>323.50</td>\n",
       "      <td>32</td>\n",
       "    </tr>\n",
       "    <tr>\n",
       "      <th>2</th>\n",
       "      <td>2022-07-11 01:42:16</td>\n",
       "      <td>324.50</td>\n",
       "      <td>326.0</td>\n",
       "      <td>335.00</td>\n",
       "      <td>318.99</td>\n",
       "      <td>40</td>\n",
       "    </tr>\n",
       "    <tr>\n",
       "      <th>3</th>\n",
       "      <td>2022-07-18 01:39:39</td>\n",
       "      <td>324.89</td>\n",
       "      <td>322.5</td>\n",
       "      <td>329.00</td>\n",
       "      <td>318.50</td>\n",
       "      <td>40</td>\n",
       "    </tr>\n",
       "    <tr>\n",
       "      <th>4</th>\n",
       "      <td>2022-07-25 01:37:55</td>\n",
       "      <td>328.44</td>\n",
       "      <td>325.0</td>\n",
       "      <td>332.75</td>\n",
       "      <td>320.00</td>\n",
       "      <td>39</td>\n",
       "    </tr>\n",
       "    <tr>\n",
       "      <th>5</th>\n",
       "      <td>2022-08-01 01:39:00</td>\n",
       "      <td>323.50</td>\n",
       "      <td>334.0</td>\n",
       "      <td>340.52</td>\n",
       "      <td>322.50</td>\n",
       "      <td>41</td>\n",
       "    </tr>\n",
       "    <tr>\n",
       "      <th>6</th>\n",
       "      <td>2022-08-08 01:49:46</td>\n",
       "      <td>335.00</td>\n",
       "      <td>341.5</td>\n",
       "      <td>345.30</td>\n",
       "      <td>327.00</td>\n",
       "      <td>51</td>\n",
       "    </tr>\n",
       "    <tr>\n",
       "      <th>7</th>\n",
       "      <td>2022-08-15 01:50:07</td>\n",
       "      <td>341.90</td>\n",
       "      <td>357.0</td>\n",
       "      <td>365.00</td>\n",
       "      <td>341.00</td>\n",
       "      <td>59</td>\n",
       "    </tr>\n",
       "    <tr>\n",
       "      <th>8</th>\n",
       "      <td>2022-08-22 02:11:02</td>\n",
       "      <td>355.75</td>\n",
       "      <td>364.0</td>\n",
       "      <td>369.00</td>\n",
       "      <td>353.50</td>\n",
       "      <td>47</td>\n",
       "    </tr>\n",
       "    <tr>\n",
       "      <th>9</th>\n",
       "      <td>2022-08-29 02:23:56</td>\n",
       "      <td>358.50</td>\n",
       "      <td>367.5</td>\n",
       "      <td>373.90</td>\n",
       "      <td>350.00</td>\n",
       "      <td>64</td>\n",
       "    </tr>\n",
       "  </tbody>\n",
       "</table>\n",
       "</div>"
      ],
      "text/plain": [
       "                    时间     开盘价    收盘价     最高价     最低价  估算成交量\n",
       "0  2022-06-30 00:11:18  340.00  327.0  343.44  325.00     16\n",
       "1  2022-07-04 01:43:11  326.00  323.5  337.50  323.50     32\n",
       "2  2022-07-11 01:42:16  324.50  326.0  335.00  318.99     40\n",
       "3  2022-07-18 01:39:39  324.89  322.5  329.00  318.50     40\n",
       "4  2022-07-25 01:37:55  328.44  325.0  332.75  320.00     39\n",
       "5  2022-08-01 01:39:00  323.50  334.0  340.52  322.50     41\n",
       "6  2022-08-08 01:49:46  335.00  341.5  345.30  327.00     51\n",
       "7  2022-08-15 01:50:07  341.90  357.0  365.00  341.00     59\n",
       "8  2022-08-22 02:11:02  355.75  364.0  369.00  353.50     47\n",
       "9  2022-08-29 02:23:56  358.50  367.5  373.90  350.00     64"
      ]
     },
     "execution_count": 5,
     "metadata": {},
     "output_type": "execute_result"
    }
   ],
   "source": [
    "cs_data.head(10)"
   ]
  },
  {
   "cell_type": "markdown",
   "id": "5e456fda-8dbb-4a52-9dd7-3d58c22fd109",
   "metadata": {},
   "source": [
    "Step2:定义函数 "
   ]
  },
  {
   "cell_type": "code",
   "execution_count": 23,
   "id": "760faba0-1aff-45a4-b783-7adbb8ff4f48",
   "metadata": {},
   "outputs": [],
   "source": [
    "def find_top_fractals(high_prices,low_prices):\n",
    "    top_fractals=[]\n",
    "    n=len(high_prices)\n",
    "    for i in range(1,n-1):\n",
    "        if high_prices[i] > high_prices[i - 1] and high_prices[i] > high_prices[i + 1]:\n",
    "            if low_prices[i] > low_prices[i - 1] and low_prices[i] > low_prices[i + 1]:\n",
    "                top_fractals.append(i)\n",
    "        return top_fractals    "
   ]
  },
  {
   "cell_type": "code",
   "execution_count": 28,
   "id": "0064926d-1655-4efe-bb1f-f6fa3b1fb470",
   "metadata": {},
   "outputs": [],
   "source": [
    "def find_bottom_fractals(high_prices,low_prices):\n",
    "    bottom_fractals=[]\n",
    "    n=len(high_prices)\n",
    "    for i in range(1,n-1):\n",
    "        if high_prices[i] < high_prices[i - 1] and high_prices[i] < high_prices[i + 1]:\n",
    "            if low_prices[i] < low_prices[i - 1] and low_prices[i] < low_prices[i + 1]:\n",
    "                bottom_fractals.append(i)\n",
    "        return bottom_fractals    "
   ]
  },
  {
   "cell_type": "markdown",
   "id": "5f90b7e7-af53-4584-b3de-9cdaef3eb6bc",
   "metadata": {},
   "source": [
    "Step3:传入数据"
   ]
  },
  {
   "cell_type": "code",
   "execution_count": 29,
   "id": "329ef0c5-7325-4704-aae0-106e2d7d1808",
   "metadata": {},
   "outputs": [],
   "source": [
    "high_prices=cs_data[\"最高价\"]"
   ]
  },
  {
   "cell_type": "code",
   "execution_count": 30,
   "id": "94b63831-35d6-493a-a4b2-94019f5b84eb",
   "metadata": {},
   "outputs": [],
   "source": [
    "low_prices=cs_data[\"最低价\"]\n"
   ]
  },
  {
   "cell_type": "code",
   "execution_count": 26,
   "id": "e04266cc-36e3-4acb-b7af-f49004d84c2e",
   "metadata": {},
   "outputs": [],
   "source": [
    "top_fractals=find_top_fractals(high_prices,low_prices)"
   ]
  },
  {
   "cell_type": "code",
   "execution_count": 31,
   "id": "96e13441-ef94-4643-8990-ec84781ee77d",
   "metadata": {},
   "outputs": [],
   "source": [
    "bottom_fractals = find_bottom_fractals(high_prices,low_prices)"
   ]
  },
  {
   "cell_type": "code",
   "execution_count": 32,
   "id": "24190614-0bd7-4608-b5f1-023daf3af7ac",
   "metadata": {},
   "outputs": [
    {
     "name": "stdout",
     "output_type": "stream",
     "text": [
      "顶分型的索引: []\n"
     ]
    }
   ],
   "source": [
    "print(\"顶分型的索引:\",top_fractals)"
   ]
  },
  {
   "cell_type": "code",
   "execution_count": 33,
   "id": "ecd9e2f3-9014-4513-b17c-0255e93a1c47",
   "metadata": {},
   "outputs": [
    {
     "name": "stdout",
     "output_type": "stream",
     "text": [
      "底分型的索引: []\n"
     ]
    }
   ],
   "source": [
    "print(\"底分型的索引:\",bottom_fractals)"
   ]
  },
  {
   "cell_type": "code",
   "execution_count": null,
   "id": "b5ac98e6-422d-4943-b8e4-00b43f9b791a",
   "metadata": {},
   "outputs": [],
   "source": []
  },
  {
   "cell_type": "code",
   "execution_count": null,
   "id": "fc0e40d7-a15d-40de-8151-15299a780802",
   "metadata": {},
   "outputs": [],
   "source": []
  }
 ],
 "metadata": {
  "kernelspec": {
   "display_name": "Python 3 (ipykernel)",
   "language": "python",
   "name": "python3"
  },
  "language_info": {
   "codemirror_mode": {
    "name": "ipython",
    "version": 3
   },
   "file_extension": ".py",
   "mimetype": "text/x-python",
   "name": "python",
   "nbconvert_exporter": "python",
   "pygments_lexer": "ipython3",
   "version": "3.11.4"
  }
 },
 "nbformat": 4,
 "nbformat_minor": 5
}
